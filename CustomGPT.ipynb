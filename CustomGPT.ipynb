{
 "cells": [
  {
   "cell_type": "code",
   "execution_count": null,
   "id": "684df38a",
   "metadata": {},
   "outputs": [],
   "source": [
    "from langchain.embeddings.openai import OpenAIEmbeddings\n",
    "from langchain.vectorstores import Chroma\n",
    "from langchain.text_splitter import CharacterTextSplitter\n",
    "from langchain import OpenAI, VectorDBQA\n",
    "from langchain.document_loaders import DirectoryLoader\n",
    "import os\n",
    "import nltk\n",
    "import magic\n",
    "import unstructured\n",
    "from pdf2image import convert_from_path\n",
    "\n"
   ]
  },
  {
   "cell_type": "code",
   "execution_count": null,
   "id": "7eefb74a",
   "metadata": {},
   "outputs": [],
   "source": [
    "os.environ[\"OPENAI_API_KEY\"] = \"API KEY\""
   ]
  },
  {
   "cell_type": "code",
   "execution_count": null,
   "id": "bb13e85f",
   "metadata": {},
   "outputs": [],
   "source": [
    "loader = DirectoryLoader('store', glob=\"**/*.txt\")\n",
    "docs = loader.load()"
   ]
  },
  {
   "cell_type": "code",
   "execution_count": null,
   "id": "1782ca76",
   "metadata": {},
   "outputs": [],
   "source": [
    "char_text_splitter = CharacterTextSplitter(chunk_size = 1000, chunk_overlap = 0)"
   ]
  },
  {
   "cell_type": "code",
   "execution_count": null,
   "id": "ead7c4d2",
   "metadata": {},
   "outputs": [],
   "source": [
    "doc_text = char_text_splitter.split_documents(docs)"
   ]
  },
  {
   "cell_type": "code",
   "execution_count": null,
   "id": "e29abad1",
   "metadata": {},
   "outputs": [],
   "source": [
    "doc_text"
   ]
  },
  {
   "cell_type": "code",
   "execution_count": null,
   "id": "fa3f9b11",
   "metadata": {},
   "outputs": [],
   "source": [
    "openAI_embeddings=OpenAIEmbeddings(openai_api_key = os.environ[\"OPENAI_API_KEY\"])"
   ]
  },
  {
   "cell_type": "code",
   "execution_count": null,
   "id": "ac6f3cbe",
   "metadata": {},
   "outputs": [],
   "source": [
    "vStore = Chroma.from_documents(doc_text, openAI_embeddings)"
   ]
  },
  {
   "cell_type": "code",
   "execution_count": null,
   "id": "d8fab88b",
   "metadata": {},
   "outputs": [],
   "source": [
    "model = VctorDBQA.from_chain_type(llm = openAI(), chai_type = \"stuff\", vectorstore = vStore)"
   ]
  },
  {
   "cell_type": "code",
   "execution_count": null,
   "id": "d5b1b48e",
   "metadata": {},
   "outputs": [],
   "source": [
    "question = \"What is the theory of general relativity?\"\n",
    "model.run(question)"
   ]
  },
  {
   "cell_type": "code",
   "execution_count": null,
   "id": "b79a1201",
   "metadata": {},
   "outputs": [],
   "source": [
    "model = VectorDBQA.from_chain_type(llm = openAI(), chain_type = \"stuff\", vectorstore = vStore, return_source_documents = True)"
   ]
  },
  {
   "cell_type": "code",
   "execution_count": null,
   "id": "71c7413b",
   "metadata": {},
   "outputs": [],
   "source": [
    "question = \"What is the theory of general relativity?\"\n",
    "response = model({\"query\": question})\n",
    "response['source_documents']"
   ]
  },
  {
   "cell_type": "code",
   "execution_count": null,
   "id": "4218d140",
   "metadata": {},
   "outputs": [],
   "source": []
  }
 ],
 "metadata": {
  "kernelspec": {
   "display_name": "Python 3 (ipykernel)",
   "language": "python",
   "name": "python3"
  },
  "language_info": {
   "codemirror_mode": {
    "name": "ipython",
    "version": 3
   },
   "file_extension": ".py",
   "mimetype": "text/x-python",
   "name": "python",
   "nbconvert_exporter": "python",
   "pygments_lexer": "ipython3",
   "version": "3.11.0"
  }
 },
 "nbformat": 4,
 "nbformat_minor": 5
}
